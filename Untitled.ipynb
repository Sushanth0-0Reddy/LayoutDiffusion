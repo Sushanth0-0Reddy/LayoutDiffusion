{
 "cells": [
  {
   "cell_type": "code",
   "execution_count": null,
   "id": "c88dfbb4-ec14-480a-91c6-7fa3b6bc14b1",
   "metadata": {},
   "outputs": [],
   "source": [
    "try:\n",
    "    pretrained_state_dict = dist_util.load_state_dict(pretrained_model_path, map_location=\"cpu\")\n",
    "    model_state_dict = model.state_dict()\n",
    "\n",
    "    # Selectively load desired keys from the pretrained state dictionary\n",
    "    filtered_state_dict = {k: v for k, v in pretrained_state_dict.items() if k in model_state_dict}\n",
    "\n",
    "    # Load the filtered state dictionary into the model\n",
    "    model.load_state_dict(filtered_state_dict, strict=True)\n",
    "    print(\"Successfully loaded the desired part of the model weights.\")\n",
    "except:\n",
    "    print(\"Failed to load the desired part of the model weights.\")"
   ]
  }
 ],
 "metadata": {
  "kernelspec": {
   "display_name": "Python 3 (ipykernel)",
   "language": "python",
   "name": "python3"
  },
  "language_info": {
   "codemirror_mode": {
    "name": "ipython",
    "version": 3
   },
   "file_extension": ".py",
   "mimetype": "text/x-python",
   "name": "python",
   "nbconvert_exporter": "python",
   "pygments_lexer": "ipython3",
   "version": "3.9.13"
  }
 },
 "nbformat": 4,
 "nbformat_minor": 5
}
